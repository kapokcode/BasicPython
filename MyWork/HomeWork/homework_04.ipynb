{
 "cells": [
  {
   "cell_type": "code",
   "execution_count": 3,
   "metadata": {},
   "outputs": [
    {
     "name": "stdout",
     "output_type": "stream",
     "text": [
      "จำนวนเงิน 2900\n",
      "ธนบัตร 1000 จำนวน 2\n",
      "ธนบัตร  500 จำนวน 1\n",
      "ธนบัตร  100 จำนวน 4\n"
     ]
    }
   ],
   "source": [
    "'''\n",
    "    โปรแกรม คำนวนธนบัตร ATM\n",
    "    นายสุรชัย โสนะจิตร รหัสนักศึกษา 6412732113\n",
    "'''\n",
    "\n",
    "\n",
    "money = int(input(\"จำนวนเงิน >> \"))\n",
    "item = [1000,500,100]\n",
    "print(f\"จำนวนเงิน {money}\")\n",
    "\n",
    "for i in item:\n",
    "    result = money // i\n",
    "    money = money % i\n",
    "    print(f\"ธนบัตร {i:4} จำนวน {result}\")"
   ]
  }
 ],
 "metadata": {
  "interpreter": {
   "hash": "bfb4883d108fc92ac768439090a2e92bb9a1f760a54beeecfd6762b5dcd70fe3"
  },
  "kernelspec": {
   "display_name": "Python 3.10.0 64-bit",
   "language": "python",
   "name": "python3"
  },
  "language_info": {
   "codemirror_mode": {
    "name": "ipython",
    "version": 3
   },
   "file_extension": ".py",
   "mimetype": "text/x-python",
   "name": "python",
   "nbconvert_exporter": "python",
   "pygments_lexer": "ipython3",
   "version": "3.10.0"
  },
  "orig_nbformat": 4
 },
 "nbformat": 4,
 "nbformat_minor": 2
}
