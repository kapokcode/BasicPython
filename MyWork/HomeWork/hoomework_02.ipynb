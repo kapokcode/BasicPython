{
 "cells": [
  {
   "cell_type": "code",
   "execution_count": 5,
   "metadata": {},
   "outputs": [
    {
     "name": "stdout",
     "output_type": "stream",
     "text": [
      "Weight = 50 Height = 160 | Your BMI is 19.53\n"
     ]
    }
   ],
   "source": [
    "weight,height = input('Enter your data ：').split()\n",
    "bmi = int(weight) / ((int(height)/100)**2)\n",
    "print(f\"Weight = {weight} Height = {height} | Your BMI is {bmi:.2f}\")"
   ]
  }
 ],
 "metadata": {
  "interpreter": {
   "hash": "5c6b3afcd143ff71b721cdb67f6d472ffa15a761c2f4d1c2adfd90ddd1ed5fee"
  },
  "kernelspec": {
   "display_name": "Python 3.10.0 64-bit ('py22': virtualenv)",
   "language": "python",
   "name": "python3"
  },
  "language_info": {
   "codemirror_mode": {
    "name": "ipython",
    "version": 3
   },
   "file_extension": ".py",
   "mimetype": "text/x-python",
   "name": "python",
   "nbconvert_exporter": "python",
   "pygments_lexer": "ipython3",
   "version": "3.10.0"
  },
  "orig_nbformat": 4
 },
 "nbformat": 4,
 "nbformat_minor": 2
}
