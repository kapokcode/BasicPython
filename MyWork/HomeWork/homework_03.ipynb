{
 "cells": [
  {
   "cell_type": "markdown",
   "metadata": {},
   "source": [
    "#### Problem 1: Find palindrome in 1-1000"
   ]
  },
  {
   "cell_type": "code",
   "execution_count": 2,
   "metadata": {},
   "outputs": [
    {
     "name": "stdout",
     "output_type": "stream",
     "text": [
      "[1, 2, 3, 4, 5, 6, 7, 8, 9, 11, 22, 33, 44, 55, 66, 77, 88, 99, 101, 111, 121, 131, 141, 151, 161, 171, 181, 191, 202, 212, 222, 232, 242, 252, 262, 272, 282, 292, 303, 313, 323, 333, 343, 353, 363, 373, 383, 393, 404, 414, 424, 434, 444, 454, 464, 474, 484, 494, 505, 515, 525, 535, 545, 555, 565, 575, 585, 595, 606, 616, 626, 636, 646, 656, 666, 676, 686, 696, 707, 717, 727, 737, 747, 757, 767, 777, 787, 797, 808, 818, 828, 838, 848, 858, 868, 878, 888, 898, 909, 919, 929, 939, 949, 959, 969, 979, 989, 999]\n"
     ]
    }
   ],
   "source": [
    "print([i for i in range(1, 1001) if str(i) == str(i)[::-1]])"
   ]
  },
  {
   "cell_type": "markdown",
   "metadata": {},
   "source": [
    "\n",
    "#### Problem 2: Skylight"
   ]
  },
  {
   "cell_type": "code",
   "execution_count": 3,
   "metadata": {},
   "outputs": [
    {
     "name": "stdout",
     "output_type": "stream",
     "text": [
      "10\n"
     ]
    }
   ],
   "source": [
    "# Solve the problem skylight.\n",
    "\n",
    "# Surachai 113   \n",
    "\n",
    "from math import ceil\n",
    "\n",
    "width,length = [int(x) for x in input(\">> \").split()]\n",
    "\n",
    "L,K = [int(x) for x in input(\">> \").split()]  # L แทนราคาเชื้อเพลิงต่อการบินหนึ่งครั้งและ K แทนจำนวนครั้งที่เครื่องไอพ่นใช้บินได้ต่อคนเช่าหนึ่งคน\n",
    "\n",
    "players = int(input(\">> \"))\n",
    "\n",
    "count = 1\n",
    "number_list = []\n",
    "\n",
    "while count:\n",
    "\n",
    "    a = [int(x) for x in input(\">> \").split()] \n",
    "     \n",
    "    count += 1\n",
    "\n",
    "    number_list.append(a)\n",
    "    if count == width + 1:\n",
    "        break\n",
    "\n",
    "total = number_list[0] + number_list[1] + number_list[2]\n",
    "\n",
    "bill_total = sum(total)\n",
    "\n",
    "gascost = L * K * players\n",
    "\n",
    "data = (gascost + bill_total) / players\n",
    "\n",
    "print(ceil(data))\n",
    "\n",
    "\n",
    "\n"
   ]
  }
 ],
 "metadata": {
  "interpreter": {
   "hash": "bfb4883d108fc92ac768439090a2e92bb9a1f760a54beeecfd6762b5dcd70fe3"
  },
  "kernelspec": {
   "display_name": "Python 3.10.0 64-bit",
   "language": "python",
   "name": "python3"
  },
  "language_info": {
   "codemirror_mode": {
    "name": "ipython",
    "version": 3
   },
   "file_extension": ".py",
   "mimetype": "text/x-python",
   "name": "python",
   "nbconvert_exporter": "python",
   "pygments_lexer": "ipython3",
   "version": "3.10.0"
  },
  "orig_nbformat": 4
 },
 "nbformat": 4,
 "nbformat_minor": 2
}
