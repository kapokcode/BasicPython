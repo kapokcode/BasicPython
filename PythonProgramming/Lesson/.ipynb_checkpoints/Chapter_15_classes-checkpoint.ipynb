{
 "cells": [
  {
   "cell_type": "code",
   "execution_count": 2,
   "metadata": {},
   "outputs": [],
   "source": [
    "class Dog():\n",
    "    \"\"\"การจำลองสุนัขทั่วไปด้วยคลาส\"\"\"\n",
    "    def __init__(self, name, age):\n",
    "        self.name = name\n",
    "        self.age = age\n",
    "    \n",
    "    def sit(self):\n",
    "        \"\"\"การจำลองพฤติกรรมการนั่ง\"\"\"\n",
    "        print(\"{} is now sitting.\".format(self.name.title()))\n",
    "        \n",
    "    def roll_over(self):\n",
    "        \"\"\"การจำลองพฤติกรรมการวิ่ง\"\"\"\n",
    "        print(\"{} is rolled over!\".format(self.name.title()))"
   ]
  },
  {
   "cell_type": "code",
   "execution_count": 3,
   "metadata": {},
   "outputs": [
    {
     "name": "stdout",
     "output_type": "stream",
     "text": [
      "My dog's name is Kanoon.\n",
      "My dog is 3 year old.\n"
     ]
    }
   ],
   "source": [
    "dog = Dog(\"Kanoon\", 3)\n",
    "\n",
    "print(\"My dog's name is {}.\".format(dog.name.title()))\n",
    "\n",
    "print(\"My dog is {} year old.\".format(dog.age))"
   ]
  },
  {
   "cell_type": "code",
   "execution_count": 4,
   "metadata": {},
   "outputs": [
    {
     "name": "stdout",
     "output_type": "stream",
     "text": [
      "Kanoon is now sitting.\n",
      "Kanoon is rolled over!\n"
     ]
    }
   ],
   "source": [
    "dog.sit()\n",
    "\n",
    "dog.roll_over()"
   ]
  },
  {
   "cell_type": "code",
   "execution_count": 5,
   "metadata": {},
   "outputs": [
    {
     "name": "stdout",
     "output_type": "stream",
     "text": [
      "My dog's name is Thungtong.\n",
      "My dog's name is Thunggnern.\n"
     ]
    }
   ],
   "source": [
    "thungtong = Dog(\"Thungtong\", 8)\n",
    "thunggnern = Dog(\"Thunggnern\", 9)\n",
    "\n",
    "print(\"My dog's name is {}.\".format(thungtong.name.title()))\n",
    "print(\"My dog's name is {}.\".format(thunggnern.name.title()))"
   ]
  },
  {
   "cell_type": "code",
   "execution_count": 6,
   "metadata": {},
   "outputs": [
    {
     "name": "stdout",
     "output_type": "stream",
     "text": [
      "2016 Toyota Altis\n",
      "This car has 0 miles\n",
      "This car has 50 miles\n",
      "คุณไม่สามารถลดค่าระยะสะสมได้\n",
      "This car has 50 miles\n"
     ]
    }
   ],
   "source": [
    "class Car():\n",
    "    \"\"\"คลาสสำหรับจำลองรถยนต์\"\"\"\n",
    "    def __init__(self, make, model, year):\n",
    "        \"\"\"กำหนดค่าเริ่มต้นให้กับแอตทริบิวต์ของคลาสรถยนต์\"\"\"\n",
    "        self.make = make\n",
    "        self.model = model\n",
    "        self.year = year\n",
    "        self.odometer = 0\n",
    "    \n",
    "    def get_descriptive_name(self):\n",
    "        \"\"\"ส่งคืนค่ารายระเอียดต่าง ๆ ของรถยนต์\"\"\"\n",
    "        long_name = str(self.year)+\" \"+self.make+\" \"+self.model\n",
    "        return long_name.title()\n",
    "    \n",
    "    def read_odometer(self):\n",
    "        \"\"\"แสดงรายละเอียดระยะสะสมของรถยนต์\"\"\"\n",
    "        print(\"This car has \" + str(self.odometer) + \" miles\")\n",
    "        \n",
    "    def update_odometor(self, mileage):\n",
    "        \"\"\"กำหนดค่าระยะทางสะสมใหม่จากพารามิเตอร์\"\"\"\n",
    "        if mileage > self.odometer:\n",
    "            self.odometer = mileage\n",
    "        else:\n",
    "            print(\"คุณไม่สามารถลดค่าระยะสะสมได้\")\n",
    "    \n",
    "my_new_car = Car('Toyota', 'Altis', 2016) \n",
    "\n",
    "print(my_new_car.get_descriptive_name())\n",
    "my_new_car.read_odometer()\n",
    "\n",
    "my_new_car.update_odometor(50)\n",
    "my_new_car.read_odometer()\n",
    "\n",
    "my_new_car.update_odometor(30)\n",
    "my_new_car.read_odometer()"
   ]
  },
  {
   "cell_type": "code",
   "execution_count": 7,
   "metadata": {},
   "outputs": [
    {
     "name": "stdout",
     "output_type": "stream",
     "text": [
      "คุณไม่สามารถลดค่าระยะสะสมได้\n",
      "This car has 50 miles\n"
     ]
    }
   ],
   "source": [
    "my_new_car.update_odometor(50)\n",
    "my_new_car.read_odometer()"
   ]
  },
  {
   "cell_type": "raw",
   "metadata": {},
   "source": [
    "class BaseClass:\n",
    "  Body of base class\n",
    "\n",
    "class DerivedClass(BaseClass):\n",
    "  Body of derived class"
   ]
  },
  {
   "cell_type": "code",
   "execution_count": 10,
   "metadata": {},
   "outputs": [
    {
     "name": "stdout",
     "output_type": "stream",
     "text": [
      "2020 Tesla Model S\n"
     ]
    }
   ],
   "source": [
    "class ElectricCar(Car):\n",
    "    \"\"\"คลาสรถยนต์ไฟฟ้าสืบทดทคุณสมบัติจากคลาสรถยนต์\"\"\"\n",
    "    def __init__(self, make, model, year):\n",
    "        \"\"\"กำหนดค่าเริ่มต้นจากพารามิเตอร์ให้กับคลาสแม่\"\"\"\n",
    "        super().__init__(make, model, year)\n",
    "        self.battery_size = 100\n",
    "        \n",
    "    def describe_battery(self):\n",
    "        \"\"\"พิมพ์ขนาดบรรจุแบตเตอรี่ออกทางหน้่าจอ\"\"\"\n",
    "        print(\"This car has {} -kWh battery.\".format(self.battery_size))\n",
    "    \n",
    "        \n",
    "my_ecar = ElectricCar('Tesla', 'model s', 2020)\n",
    "print(my_ecar.get_descriptive_name())"
   ]
  },
  {
   "cell_type": "code",
   "execution_count": null,
   "metadata": {},
   "outputs": [],
   "source": []
  }
 ],
 "metadata": {
  "kernelspec": {
   "display_name": "Python 3",
   "language": "python",
   "name": "python3"
  },
  "language_info": {
   "codemirror_mode": {
    "name": "ipython",
    "version": 3
   },
   "file_extension": ".py",
   "mimetype": "text/x-python",
   "name": "python",
   "nbconvert_exporter": "python",
   "pygments_lexer": "ipython3",
   "version": "3.7.6"
  }
 },
 "nbformat": 4,
 "nbformat_minor": 4
}
