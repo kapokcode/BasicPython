{
 "cells": [
  {
   "cell_type": "markdown",
   "metadata": {},
   "source": [
    "# บทที่ 4. พื้นฐานโปรแกรมภาษาไพธอน\n",
    "\n",
    "บทเรียนนี้จะอธิบายถึงพื้นฐานของโปรแกรมภาษาไพธอน ซึ่งประกอบไปด้วยไวยากรณ์โครงสร้างของโปรแกรม ข้อควรจำที่สำคัญในการใช้ไวยากรณ์ของภาษาไพธอน คำสั่งในการรับข้อมูลเข้าและการแสดผล \n",
    "\n",
    "เนื้อหาในบทเรียนนี้จะเป็นส่วนความรู้เบื้องต้นที่ทำให้สามารถเขียนโปรแกรมภาษาไพธอนอย่างง่ายได้ ตลอดจนวิธีการรันโปรแกรมที่เขียนด้วยภาษาไพธอน  โดยใช้โปรแกรมแปลภาษาไพธอนทั้งในโหมดโต้ตอบและโหมดสคริปต์"
   ]
  },
  {
   "cell_type": "markdown",
   "metadata": {},
   "source": [
    "## บรรทัดและการเยื้องหน้า (Lines and Indentation)\n",
    "\n",
    "ไพธอนไม่ใช้วงเล็บการเพื่อบ่งบอกถึงบล็อกของโค้ดสำหรับนิยามคลาส และฟังก์ชัน     \n",
    "\n",
    "หรือคำสั่งโครงสร้างควบคุม บล็อกของโค้ดจะแสดงด้วยการเว้นบรรทัดพร้อมเยื้องหน้า ซึ่งในภาษาไพธอนมีการบังคับใช้อย่างเข้มงวด\n",
    "\n",
    "จำนวนของการเว้นวรรคในการเยื้องหน้าสำหรับคำสั่งทั้งหมดภายในบล็อกจะต้องทำการเว้นวรรคด้วยจำนวนหรือขนาดที่เท่ากันทั้งหมด ตัวอย่างเช่น"
   ]
  },
  {
   "cell_type": "code",
   "execution_count": null,
   "metadata": {},
   "outputs": [],
   "source": [
    "if True:\n",
    "    print(\"Answer\")\n",
    "    print(\"True\")\n",
    "else:\n",
    "    print(\"Answer\")\n",
    "    print(\"False\")"
   ]
  },
  {
   "cell_type": "code",
   "execution_count": null,
   "metadata": {},
   "outputs": [],
   "source": [
    "while True:\n",
    "    value = input(\"Please enter a value: \")\n",
    "    if value == \"quit\":\n",
    "        break\n",
    "    elif int(value) < 10:\n",
    "        print(\"Small\")\n",
    "    else:\n",
    "        print(value)"
   ]
  },
  {
   "cell_type": "markdown",
   "metadata": {},
   "source": [
    "## การแสดงคําสั่งหลายบรรทัด (Multi-Line Statements)"
   ]
  },
  {
   "cell_type": "code",
   "execution_count": null,
   "metadata": {},
   "outputs": [],
   "source": [
    "total = 1 + 2 + 3"
   ]
  },
  {
   "cell_type": "code",
   "execution_count": null,
   "metadata": {},
   "outputs": [],
   "source": [
    "total = 1 + \\\n",
    "        2 + \\\n",
    "        3"
   ]
  },
  {
   "cell_type": "markdown",
   "metadata": {},
   "source": [
    "## การใช้เครื่องหมายคําพูดในภาษาไพธอน (Quotation in Python)"
   ]
  },
  {
   "cell_type": "code",
   "execution_count": null,
   "metadata": {},
   "outputs": [],
   "source": [
    "word = 'word'"
   ]
  },
  {
   "cell_type": "code",
   "execution_count": null,
   "metadata": {},
   "outputs": [],
   "source": [
    "sentence = \"This is a sentence.\""
   ]
  },
  {
   "cell_type": "code",
   "execution_count": null,
   "metadata": {},
   "outputs": [],
   "source": [
    "paragraph = \"\"\"This is a paragraph. \n",
    "It is made up of multiple lines and sentences.\"\"\""
   ]
  },
  {
   "cell_type": "code",
   "execution_count": null,
   "metadata": {},
   "outputs": [],
   "source": [
    "print(paragraph)"
   ]
  },
  {
   "cell_type": "markdown",
   "metadata": {},
   "source": [
    "## คําอธิบายโปรแกรม (Comment)"
   ]
  },
  {
   "cell_type": "code",
   "execution_count": null,
   "metadata": {},
   "outputs": [],
   "source": [
    "# This is line comment\n",
    "a = 10 # This is line comment"
   ]
  },
  {
   "cell_type": "code",
   "execution_count": null,
   "metadata": {},
   "outputs": [],
   "source": [
    "''' This is block comment that\n",
    "Convers two lines.'''\n",
    "\n",
    "a = 10\n",
    "print(a)"
   ]
  },
  {
   "cell_type": "markdown",
   "metadata": {},
   "source": [
    "## หลายคําสั่งภายในบรรทัดเดียว (Multiple Statements on a Single Line)\n",
    "\n",
    "ผู้เขียนโปรแกรมสามารถใชBเครื่องหมายเซมิโคลอน (“ ; ”) เพื่อคัดระหว่างคําสั่งที่อยู่ภายใน บรรทัดเดียวกันได้ ดังแสดงในตัวอย่าง"
   ]
  },
  {
   "cell_type": "code",
   "execution_count": null,
   "metadata": {},
   "outputs": [],
   "source": [
    "import sys; x = 'Python'; print(\"{} \\n\".format(x))"
   ]
  },
  {
   "cell_type": "markdown",
   "metadata": {},
   "source": [
    "มีค่าเท่ากับเซลด้านล่าง"
   ]
  },
  {
   "cell_type": "code",
   "execution_count": null,
   "metadata": {},
   "outputs": [],
   "source": [
    "import sys\n",
    "x = 'Python'\n",
    "print(\"{} \\n\".format(x))"
   ]
  },
  {
   "cell_type": "markdown",
   "metadata": {},
   "source": [
    "## บรรทัดว่าง (Blank lines)\n",
    "\n",
    "บรรทัดที่มีเพียงแค่ช่องว่างเพียงอย่างเดียว หรืออาจมีเพียงคำอธิบายโปรแกรม จะถูกเรียกว่าเป็นบรรทัดว่าง (Blank lines) และตัวแปลภาษาไพธอนจะไม่สนใจบรรทัดว่างเหล่านี้ ในการเขียนโปรแกรมภายในโค้ดที่เราสร้างขึ้นจะสังเกตุเห็นว่า สามารถมีบรรทัดว่างได้ทั่วไปตลอดทั้งโค้ดโปรแกรม และในการแปลภาษาตัวแปรภาษาจะไม่นำบรรทัดว่างเหล่านี้ไปตีความ"
   ]
  },
  {
   "cell_type": "markdown",
   "metadata": {},
   "source": [
    "## หลายคำสั่งภายในบรรทัดเดียว (Multiple Statements on a Single Line)\n",
    "\n",
    "ผู้เขียนโปรแกรมสามารถใช้เครื่องหมายเซมิโคลอน (“ ; ”)\n",
    "\n",
    "เพื่อคัดระหว่างคำสั่งที่อยู่ภายในบรรทัดเดียวกันได้ ดังแสดงในตัวอย่าง"
   ]
  },
  {
   "cell_type": "code",
   "execution_count": null,
   "metadata": {},
   "outputs": [],
   "source": [
    "import sys; x = 'Python'; print(\"{} \\n\".format(x))  "
   ]
  },
  {
   "cell_type": "code",
   "execution_count": null,
   "metadata": {},
   "outputs": [],
   "source": [
    "# มีผลการทำงานเหมือนกับด้านบน\n",
    "import sys\n",
    "x = 'Python'\n",
    "print(\"{} \\n\".format(x))"
   ]
  },
  {
   "cell_type": "markdown",
   "metadata": {},
   "source": [
    "<hr />"
   ]
  },
  {
   "cell_type": "markdown",
   "metadata": {},
   "source": [
    "## การรับข้อมูลเข้าและการแสดงผล\n",
    "\n",
    "การรับข้อมูลจาก keyboard ด้วยฟังก์ชัน input()"
   ]
  },
  {
   "cell_type": "code",
   "execution_count": null,
   "metadata": {},
   "outputs": [],
   "source": [
    "name = input(\"What's your name? \")  \n",
    "print(\"Nice to meet you \" + name + \"!\")  \n",
    "\t  \n",
    "age = input(\"Your age? \")  \n",
    "print(\"So, you are already \" +age +\" years old, \" + name + \"!\")"
   ]
  },
  {
   "cell_type": "markdown",
   "metadata": {},
   "source": [
    "### การแสดงผล\n",
    "\n",
    "การใช้ Formatters\n",
    "Formatters ทำงานโดยการใส่ฟิลด์ที่ใช้แทนข้อมูล หรือตัวยึดตำแหน่ง (Placeholder)\n",
    "\n",
    "อย่างน้อยหนึ่งฟิลด์ซึ่งถูกกำหนดโดยใช้วงเล็บปีกกา (“ { } ”) ลงในสตริงและเรียกใช้เมธอด format() ซึ่งทำการนำค่าที่เราต้องการไปทำการใส่เข้าไปในสตริง \n",
    "\n",
    "ค่านี้จะถูกส่งผ่านไปในตำแหน่งเดียวกับที่ตัวยึดตำแหน่งอยู่ในตำแหน่งที่กำหนดไว้เมื่อมีการเรียกใช้โปรแกรม ดังตัวอย่างด้านล่างนี้"
   ]
  },
  {
   "cell_type": "code",
   "execution_count": null,
   "metadata": {},
   "outputs": [],
   "source": [
    "print(\"Sammy has {} balloons.\".format(5))"
   ]
  },
  {
   "cell_type": "code",
   "execution_count": null,
   "metadata": {},
   "outputs": [],
   "source": [
    "open_string = \"Sammy loves {}.\"  \n",
    "print(open_string.format(\"open source\")) "
   ]
  },
  {
   "cell_type": "code",
   "execution_count": null,
   "metadata": {},
   "outputs": [],
   "source": [
    "\"\"\" \n",
    "การใช้ Formatters กับตัวยึดตำแหน่งหลายตัว\n",
    "เราสามารถใช้เครื่องหมายวงเล็บปีกกาหลายคู่เมื่อใช้ formatters ถ้าเราต้องการเพิ่มการแทนที่ตัวแปรอื่นในสตริง \n",
    "เราสามารถทำได้โดยการเพิ่มคู่วงเล็บปีกกาที่สอง และส่งค่าที่สองเข้าไปใน เมธอดโดยการคั่นด้วยเครื่องหมายจุลภาค (“ , ”)\n",
    "\"\"\"\n",
    "\n",
    "new_open_string = \"Sammy loves {} {}.\"  \n",
    "print(new_open_string.format(\"open-source\", \"software\")) "
   ]
  },
  {
   "cell_type": "code",
   "execution_count": null,
   "metadata": {},
   "outputs": [],
   "source": [
    "\"\"\"\n",
    "จัดลำดับการแสดงผลด้วยอาร์กิวเมนต์ตำแหน่งและคำหลัก\n",
    "เมื่อเราใช้เครื่องหมายวงเล็บปีกกาโดยไม่มีพารามิเตอร์ใด ๆ ภายใน \n",
    "ไพธอนจะแทนที่ค่าที่โดยส่งผ่านเมธอด format() ตามลำดับ ตามที่เราได้เห็นแล้วจากตัวอย่างข้างต้นที่ผ่านมา โดยการสร้างแบบฟอร์มที่มีวงเล็บปีกกาสองวงที่ว่างเปล่ามีสองค่าที่ผ่านมาจะมีลักษณะดังนี้\n",
    "\"\"\"\n",
    "\n",
    "print(\"Sammy the {} has a pet {}!\".format(\"shark\", \"pilot fish\"))\n",
    "\n",
    "# หรือ\n",
    "print(\"Sammy the {0} has a pet {1}!\".format(\"shark\", \"pilot fish\"))\n",
    "\n",
    "# หรือ\n",
    "print(\"Sammy is a {3}, {2}, and {1} {0}!\".format(\"happy\",   \n",
    "\t                                                 \"smiling\",   \n",
    "\t                                                 \"blue\",   \n",
    "\t                                                 \"shark\"))  \n",
    "\n",
    "# หรือ\n",
    "print(\"Sammy the {0} {1} a {pr}.\".format(\"shark\",   \n",
    "\t                                     \"made\",   \n",
    "\t                                     pr=\"pull request\"))  \n",
    "\n"
   ]
  },
  {
   "cell_type": "markdown",
   "metadata": {},
   "source": [
    "## การแสดงผลโดยใช้ตัวแปลงข้อมูล\n",
    "ภายในวงเล็บปีกกาที่เราใช้เป็นตัวยึดตำแหน่งภายในสตริงนั้น สามารถมีพารามิเตอร์      ได้มากกว่า 1 ตัว โดยเราจะใช้ไวยากรณ์แบบ {field_name:conversion} โดยที่ field_name จะระบุหมายเลขดัชนีของอาร์กิวเมนต์จากเมธอด format() ที่เราดำเนินการในส่วนการจัดเรียงลำดับ และ conversion หมายถึงรหัสการแปลงรูปแบบของข้อมูลที่เราใช้กับตัวจัดรูปแบบ\n",
    "\n",
    "ประเภทการแปลงรูปแบบหมายถึงรหัสอักขระเดี่ยวที่ภาษาไพธอนใช้ โดยจะใช้ s เป็นรหัสสำหรับสตริง และ d เพื่อแสดงจำนวนเต็มทศนิยม (10 ฐาน) และ f ซึ่งเราจะใช้เพื่อแสดงทศนิยมที่มีจุดทศนิยม เป็นต้น โดยตัวอย่างต่อไปนี้เป็นตัวอย่างที่เราจะทำการส่งค่าจำนวนเต็มผ่านเมธอด \n",
    "เพื่อต้องการแสดงผลเป็นจำนวนจริง หรือ float ซึ่งทำได้โดยการเพิ่มอาร์กิวเมนต์ประเภท Conversion f เข้าไปในตัวยึดตำแหน่งภายในสตริง\n"
   ]
  },
  {
   "cell_type": "code",
   "execution_count": null,
   "metadata": {},
   "outputs": [],
   "source": [
    "print(\"Sammy ate {0:f} percent of a {1}!\".format(75, \"pizza\"))\n",
    "\n",
    "print(\"Sammy ate {0:.2f} percent of a {1}!\".format(75, \"pizza\"))"
   ]
  },
  {
   "cell_type": "markdown",
   "metadata": {},
   "source": [
    "## การกำหนดขนาดของฟิลด์"
   ]
  },
  {
   "cell_type": "code",
   "execution_count": null,
   "metadata": {},
   "outputs": [],
   "source": [
    "print(\"Sammy has {0:4} red {1:16}!\".format(5, \"balloons\"))  "
   ]
  },
  {
   "cell_type": "code",
   "execution_count": null,
   "metadata": {},
   "outputs": [],
   "source": [
    "# < ชิดซ้าย\n",
    "# > ชิดขวา\n",
    "# ^ กึ่งกลาง\n",
    "print(\"Sammy has {0:<4} red {1:^16}!\".format(5, \"balloons\"))  "
   ]
  },
  {
   "cell_type": "code",
   "execution_count": null,
   "metadata": {},
   "outputs": [],
   "source": [
    "\"\"\"\n",
    "โดยค่าเริ่มต้นเมื่อเราสร้างฟิลด์ขนาดใหญ่ขึ้นด้วย formatters ไพธอนจะเติมฟิลด์ด้วยอักขระเว้นวรรค \n",
    "แต่เราสามารถปรับเปลี่ยนจากอักขระเว้นวรรคให้เป็นอักขระอื่น ๆ ตามที่เราต้องการได้\n",
    "โดยใส่อักขระที่เราต้องการไว้หลังเครื่องหมายโคลอน (“ : ”) ดังตัวอย่าง\n",
    "\"\"\"\n",
    "\n",
    "print(\"{:*^20s}\".format(\"Sammy\"))"
   ]
  },
  {
   "cell_type": "markdown",
   "metadata": {},
   "source": [
    "<hr/>\n",
    "\n",
    "### Mr.Phisan Sookkhee\n",
    "\n",
    "Sisaket Rajabhat University<br/>\n",
    "Department of Computer Science<br/> \n",
    "Faculty of Liberal Arts and Science<br/>\n",
    "\n",
    "E-mail : phisan.s@sskru.ac.th, phisan.shukkhi@gmail.com<br/>\n",
    "Website : http://phisan.sskru.ac.th<br/>\n",
    "Facebook : www.facebook/numvarn<br/>\n",
    "Skype : phisan.shukkhi<br/>\n",
    "Mobile Phone: 084-915-2456<br/>"
   ]
  }
 ],
 "metadata": {
  "interpreter": {
   "hash": "40d3a090f54c6569ab1632332b64b2c03c39dcf918b08424e98f38b5ae0af88f"
  },
  "kernelspec": {
   "display_name": "Python 3",
   "language": "python",
   "name": "python3"
  },
  "language_info": {
   "codemirror_mode": {
    "name": "ipython",
    "version": 3
   },
   "file_extension": ".py",
   "mimetype": "text/x-python",
   "name": "python",
   "nbconvert_exporter": "python",
   "pygments_lexer": "ipython3",
   "version": "3.7.6"
  }
 },
 "nbformat": 4,
 "nbformat_minor": 4
}
